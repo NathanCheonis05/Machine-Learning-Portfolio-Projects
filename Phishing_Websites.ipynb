{
 "cells": [
  {
   "cell_type": "markdown",
   "metadata": {},
   "source": [
    "# Phishing Websites Classification\n",
    "\n",
    "According to `cybercrime.org` phishing is a type of cybercrime that involves the use of fake e-mail addresses and websites that trick people into giving away their personal information. The Phishing Websites data set is a dataset that contains data about different websites that either are or are not malicious in stealing someone's data. In this project, I will be predicting if a certain URL is proven to be malicious or not using `XGBoost`.\n",
    "\n",
    "Let's get to work!"
   ]
  },
  {
   "cell_type": "code",
   "execution_count": 1,
   "metadata": {},
   "outputs": [
    {
     "data": {
      "application/vnd.microsoft.datawrangler.viewer.v0+json": {
       "columns": [
        {
         "name": "index",
         "rawType": "int64",
         "type": "integer"
        },
        {
         "name": "having_ip_address",
         "rawType": "int64",
         "type": "integer"
        },
        {
         "name": "url_length",
         "rawType": "int64",
         "type": "integer"
        },
        {
         "name": "shortining_service",
         "rawType": "int64",
         "type": "integer"
        },
        {
         "name": "having_at_symbol",
         "rawType": "int64",
         "type": "integer"
        },
        {
         "name": "double_slash_redirecting",
         "rawType": "int64",
         "type": "integer"
        },
        {
         "name": "prefix_suffix",
         "rawType": "int64",
         "type": "integer"
        },
        {
         "name": "having_sub_domain",
         "rawType": "int64",
         "type": "integer"
        },
        {
         "name": "sslfinal_state",
         "rawType": "int64",
         "type": "integer"
        },
        {
         "name": "domain_registration_length",
         "rawType": "int64",
         "type": "integer"
        },
        {
         "name": "favicon",
         "rawType": "int64",
         "type": "integer"
        },
        {
         "name": "port",
         "rawType": "int64",
         "type": "integer"
        },
        {
         "name": "https_token",
         "rawType": "int64",
         "type": "integer"
        },
        {
         "name": "request_url",
         "rawType": "int64",
         "type": "integer"
        },
        {
         "name": "url_of_anchor",
         "rawType": "int64",
         "type": "integer"
        },
        {
         "name": "links_in_tags",
         "rawType": "int64",
         "type": "integer"
        },
        {
         "name": "sfh",
         "rawType": "int64",
         "type": "integer"
        },
        {
         "name": "submitting_to_email",
         "rawType": "int64",
         "type": "integer"
        },
        {
         "name": "abnormal_url",
         "rawType": "int64",
         "type": "integer"
        },
        {
         "name": "redirect",
         "rawType": "int64",
         "type": "integer"
        },
        {
         "name": "on_mouseover",
         "rawType": "int64",
         "type": "integer"
        },
        {
         "name": "rightclick",
         "rawType": "int64",
         "type": "integer"
        },
        {
         "name": "popupwindow",
         "rawType": "int64",
         "type": "integer"
        },
        {
         "name": "iframe",
         "rawType": "int64",
         "type": "integer"
        },
        {
         "name": "age_of_domain",
         "rawType": "int64",
         "type": "integer"
        },
        {
         "name": "dnsrecord",
         "rawType": "int64",
         "type": "integer"
        },
        {
         "name": "web_traffic",
         "rawType": "int64",
         "type": "integer"
        },
        {
         "name": "page_rank",
         "rawType": "int64",
         "type": "integer"
        },
        {
         "name": "google_index",
         "rawType": "int64",
         "type": "integer"
        },
        {
         "name": "links_pointing_to_page",
         "rawType": "int64",
         "type": "integer"
        },
        {
         "name": "statistical_report",
         "rawType": "int64",
         "type": "integer"
        },
        {
         "name": "target",
         "rawType": "int64",
         "type": "integer"
        }
       ],
       "conversionMethod": "pd.DataFrame",
       "ref": "f896af2d-8d58-4d5c-b666-9651dfdf1af7",
       "rows": [
        [
         "0",
         "-1",
         "1",
         "1",
         "1",
         "-1",
         "-1",
         "-1",
         "-1",
         "-1",
         "1",
         "1",
         "-1",
         "1",
         "-1",
         "1",
         "-1",
         "-1",
         "-1",
         "0",
         "1",
         "1",
         "1",
         "1",
         "-1",
         "-1",
         "-1",
         "-1",
         "1",
         "1",
         "-1",
         "0"
        ],
        [
         "1",
         "1",
         "1",
         "1",
         "1",
         "1",
         "-1",
         "0",
         "1",
         "-1",
         "1",
         "1",
         "-1",
         "1",
         "0",
         "-1",
         "-1",
         "1",
         "1",
         "0",
         "1",
         "1",
         "1",
         "1",
         "-1",
         "-1",
         "0",
         "-1",
         "1",
         "1",
         "1",
         "0"
        ],
        [
         "2",
         "1",
         "0",
         "1",
         "1",
         "1",
         "-1",
         "-1",
         "-1",
         "-1",
         "1",
         "1",
         "-1",
         "1",
         "0",
         "-1",
         "-1",
         "-1",
         "-1",
         "0",
         "1",
         "1",
         "1",
         "1",
         "1",
         "-1",
         "1",
         "-1",
         "1",
         "0",
         "-1",
         "0"
        ],
        [
         "3",
         "1",
         "0",
         "1",
         "1",
         "1",
         "-1",
         "-1",
         "-1",
         "1",
         "1",
         "1",
         "-1",
         "-1",
         "0",
         "0",
         "-1",
         "1",
         "1",
         "0",
         "1",
         "1",
         "1",
         "1",
         "-1",
         "-1",
         "1",
         "-1",
         "1",
         "-1",
         "1",
         "0"
        ],
        [
         "4",
         "1",
         "0",
         "-1",
         "1",
         "1",
         "-1",
         "1",
         "1",
         "-1",
         "1",
         "1",
         "1",
         "1",
         "0",
         "0",
         "-1",
         "1",
         "1",
         "0",
         "-1",
         "1",
         "-1",
         "1",
         "-1",
         "-1",
         "0",
         "-1",
         "1",
         "1",
         "1",
         "1"
        ]
       ],
       "shape": {
        "columns": 31,
        "rows": 5
       }
      },
      "text/html": [
       "<div>\n",
       "<style scoped>\n",
       "    .dataframe tbody tr th:only-of-type {\n",
       "        vertical-align: middle;\n",
       "    }\n",
       "\n",
       "    .dataframe tbody tr th {\n",
       "        vertical-align: top;\n",
       "    }\n",
       "\n",
       "    .dataframe thead th {\n",
       "        text-align: right;\n",
       "    }\n",
       "</style>\n",
       "<table border=\"1\" class=\"dataframe\">\n",
       "  <thead>\n",
       "    <tr style=\"text-align: right;\">\n",
       "      <th></th>\n",
       "      <th>having_ip_address</th>\n",
       "      <th>url_length</th>\n",
       "      <th>shortining_service</th>\n",
       "      <th>having_at_symbol</th>\n",
       "      <th>double_slash_redirecting</th>\n",
       "      <th>prefix_suffix</th>\n",
       "      <th>having_sub_domain</th>\n",
       "      <th>sslfinal_state</th>\n",
       "      <th>domain_registration_length</th>\n",
       "      <th>favicon</th>\n",
       "      <th>...</th>\n",
       "      <th>popupwindow</th>\n",
       "      <th>iframe</th>\n",
       "      <th>age_of_domain</th>\n",
       "      <th>dnsrecord</th>\n",
       "      <th>web_traffic</th>\n",
       "      <th>page_rank</th>\n",
       "      <th>google_index</th>\n",
       "      <th>links_pointing_to_page</th>\n",
       "      <th>statistical_report</th>\n",
       "      <th>target</th>\n",
       "    </tr>\n",
       "  </thead>\n",
       "  <tbody>\n",
       "    <tr>\n",
       "      <th>0</th>\n",
       "      <td>-1</td>\n",
       "      <td>1</td>\n",
       "      <td>1</td>\n",
       "      <td>1</td>\n",
       "      <td>-1</td>\n",
       "      <td>-1</td>\n",
       "      <td>-1</td>\n",
       "      <td>-1</td>\n",
       "      <td>-1</td>\n",
       "      <td>1</td>\n",
       "      <td>...</td>\n",
       "      <td>1</td>\n",
       "      <td>1</td>\n",
       "      <td>-1</td>\n",
       "      <td>-1</td>\n",
       "      <td>-1</td>\n",
       "      <td>-1</td>\n",
       "      <td>1</td>\n",
       "      <td>1</td>\n",
       "      <td>-1</td>\n",
       "      <td>0</td>\n",
       "    </tr>\n",
       "    <tr>\n",
       "      <th>1</th>\n",
       "      <td>1</td>\n",
       "      <td>1</td>\n",
       "      <td>1</td>\n",
       "      <td>1</td>\n",
       "      <td>1</td>\n",
       "      <td>-1</td>\n",
       "      <td>0</td>\n",
       "      <td>1</td>\n",
       "      <td>-1</td>\n",
       "      <td>1</td>\n",
       "      <td>...</td>\n",
       "      <td>1</td>\n",
       "      <td>1</td>\n",
       "      <td>-1</td>\n",
       "      <td>-1</td>\n",
       "      <td>0</td>\n",
       "      <td>-1</td>\n",
       "      <td>1</td>\n",
       "      <td>1</td>\n",
       "      <td>1</td>\n",
       "      <td>0</td>\n",
       "    </tr>\n",
       "    <tr>\n",
       "      <th>2</th>\n",
       "      <td>1</td>\n",
       "      <td>0</td>\n",
       "      <td>1</td>\n",
       "      <td>1</td>\n",
       "      <td>1</td>\n",
       "      <td>-1</td>\n",
       "      <td>-1</td>\n",
       "      <td>-1</td>\n",
       "      <td>-1</td>\n",
       "      <td>1</td>\n",
       "      <td>...</td>\n",
       "      <td>1</td>\n",
       "      <td>1</td>\n",
       "      <td>1</td>\n",
       "      <td>-1</td>\n",
       "      <td>1</td>\n",
       "      <td>-1</td>\n",
       "      <td>1</td>\n",
       "      <td>0</td>\n",
       "      <td>-1</td>\n",
       "      <td>0</td>\n",
       "    </tr>\n",
       "    <tr>\n",
       "      <th>3</th>\n",
       "      <td>1</td>\n",
       "      <td>0</td>\n",
       "      <td>1</td>\n",
       "      <td>1</td>\n",
       "      <td>1</td>\n",
       "      <td>-1</td>\n",
       "      <td>-1</td>\n",
       "      <td>-1</td>\n",
       "      <td>1</td>\n",
       "      <td>1</td>\n",
       "      <td>...</td>\n",
       "      <td>1</td>\n",
       "      <td>1</td>\n",
       "      <td>-1</td>\n",
       "      <td>-1</td>\n",
       "      <td>1</td>\n",
       "      <td>-1</td>\n",
       "      <td>1</td>\n",
       "      <td>-1</td>\n",
       "      <td>1</td>\n",
       "      <td>0</td>\n",
       "    </tr>\n",
       "    <tr>\n",
       "      <th>4</th>\n",
       "      <td>1</td>\n",
       "      <td>0</td>\n",
       "      <td>-1</td>\n",
       "      <td>1</td>\n",
       "      <td>1</td>\n",
       "      <td>-1</td>\n",
       "      <td>1</td>\n",
       "      <td>1</td>\n",
       "      <td>-1</td>\n",
       "      <td>1</td>\n",
       "      <td>...</td>\n",
       "      <td>-1</td>\n",
       "      <td>1</td>\n",
       "      <td>-1</td>\n",
       "      <td>-1</td>\n",
       "      <td>0</td>\n",
       "      <td>-1</td>\n",
       "      <td>1</td>\n",
       "      <td>1</td>\n",
       "      <td>1</td>\n",
       "      <td>1</td>\n",
       "    </tr>\n",
       "  </tbody>\n",
       "</table>\n",
       "<p>5 rows × 31 columns</p>\n",
       "</div>"
      ],
      "text/plain": [
       "   having_ip_address  url_length  shortining_service  having_at_symbol  \\\n",
       "0                 -1           1                   1                 1   \n",
       "1                  1           1                   1                 1   \n",
       "2                  1           0                   1                 1   \n",
       "3                  1           0                   1                 1   \n",
       "4                  1           0                  -1                 1   \n",
       "\n",
       "   double_slash_redirecting  prefix_suffix  having_sub_domain  sslfinal_state  \\\n",
       "0                        -1             -1                 -1              -1   \n",
       "1                         1             -1                  0               1   \n",
       "2                         1             -1                 -1              -1   \n",
       "3                         1             -1                 -1              -1   \n",
       "4                         1             -1                  1               1   \n",
       "\n",
       "   domain_registration_length  favicon  ...  popupwindow  iframe  \\\n",
       "0                          -1        1  ...            1       1   \n",
       "1                          -1        1  ...            1       1   \n",
       "2                          -1        1  ...            1       1   \n",
       "3                           1        1  ...            1       1   \n",
       "4                          -1        1  ...           -1       1   \n",
       "\n",
       "   age_of_domain  dnsrecord  web_traffic  page_rank  google_index  \\\n",
       "0             -1         -1           -1         -1             1   \n",
       "1             -1         -1            0         -1             1   \n",
       "2              1         -1            1         -1             1   \n",
       "3             -1         -1            1         -1             1   \n",
       "4             -1         -1            0         -1             1   \n",
       "\n",
       "   links_pointing_to_page  statistical_report  target  \n",
       "0                       1                  -1       0  \n",
       "1                       1                   1       0  \n",
       "2                       0                  -1       0  \n",
       "3                      -1                   1       0  \n",
       "4                       1                   1       1  \n",
       "\n",
       "[5 rows x 31 columns]"
      ]
     },
     "execution_count": 1,
     "metadata": {},
     "output_type": "execute_result"
    }
   ],
   "source": [
    "# Importing Dependencies and Fetching the Dataset\n",
    "from ucimlrepo import fetch_ucirepo\n",
    "import pandas as pd\n",
    "import matplotlib.pyplot as plt\n",
    "import xgboost as xgb\n",
    "from sklearn.model_selection import train_test_split\n",
    "from sklearn.pipeline import Pipeline\n",
    "from sklearn.preprocessing import StandardScaler, OneHotEncoder\n",
    "from sklearn.metrics import classification_report, confusion_matrix\n",
    "from sklearn.compose import ColumnTransformer\n",
    "from sklearn.impute import SimpleImputer\n",
    "\n",
    "# fetch dataset \n",
    "phisihing_data = fetch_ucirepo(id=327) \n",
    "  \n",
    "# data (as pandas dataframes) \n",
    "df = pd.DataFrame(data = phisihing_data.data['features'], columns = phisihing_data.feature_names)\n",
    "df['target'] = phisihing_data.data['targets']\n",
    "\n",
    "# Extract features and target\n",
    "X = df.drop(columns=['target'])\n",
    "y = df['target'] = df['target'].map({-1: 0, 1: 1})\n",
    "\n",
    "df.head()"
   ]
  },
  {
   "cell_type": "code",
   "execution_count": 2,
   "metadata": {},
   "outputs": [
    {
     "name": "stdout",
     "output_type": "stream",
     "text": [
      "<class 'pandas.core.frame.DataFrame'>\n",
      "RangeIndex: 11055 entries, 0 to 11054\n",
      "Data columns (total 31 columns):\n",
      " #   Column                      Non-Null Count  Dtype\n",
      "---  ------                      --------------  -----\n",
      " 0   having_ip_address           11055 non-null  int64\n",
      " 1   url_length                  11055 non-null  int64\n",
      " 2   shortining_service          11055 non-null  int64\n",
      " 3   having_at_symbol            11055 non-null  int64\n",
      " 4   double_slash_redirecting    11055 non-null  int64\n",
      " 5   prefix_suffix               11055 non-null  int64\n",
      " 6   having_sub_domain           11055 non-null  int64\n",
      " 7   sslfinal_state              11055 non-null  int64\n",
      " 8   domain_registration_length  11055 non-null  int64\n",
      " 9   favicon                     11055 non-null  int64\n",
      " 10  port                        11055 non-null  int64\n",
      " 11  https_token                 11055 non-null  int64\n",
      " 12  request_url                 11055 non-null  int64\n",
      " 13  url_of_anchor               11055 non-null  int64\n",
      " 14  links_in_tags               11055 non-null  int64\n",
      " 15  sfh                         11055 non-null  int64\n",
      " 16  submitting_to_email         11055 non-null  int64\n",
      " 17  abnormal_url                11055 non-null  int64\n",
      " 18  redirect                    11055 non-null  int64\n",
      " 19  on_mouseover                11055 non-null  int64\n",
      " 20  rightclick                  11055 non-null  int64\n",
      " 21  popupwindow                 11055 non-null  int64\n",
      " 22  iframe                      11055 non-null  int64\n",
      " 23  age_of_domain               11055 non-null  int64\n",
      " 24  dnsrecord                   11055 non-null  int64\n",
      " 25  web_traffic                 11055 non-null  int64\n",
      " 26  page_rank                   11055 non-null  int64\n",
      " 27  google_index                11055 non-null  int64\n",
      " 28  links_pointing_to_page      11055 non-null  int64\n",
      " 29  statistical_report          11055 non-null  int64\n",
      " 30  target                      11055 non-null  int64\n",
      "dtypes: int64(31)\n",
      "memory usage: 2.6 MB\n"
     ]
    }
   ],
   "source": [
    "# Going to Do Some EDA\n",
    "df.info()"
   ]
  },
  {
   "cell_type": "code",
   "execution_count": 3,
   "metadata": {},
   "outputs": [
    {
     "data": {
      "text/plain": [
       "having_ip_address             0\n",
       "url_length                    0\n",
       "shortining_service            0\n",
       "having_at_symbol              0\n",
       "double_slash_redirecting      0\n",
       "prefix_suffix                 0\n",
       "having_sub_domain             0\n",
       "sslfinal_state                0\n",
       "domain_registration_length    0\n",
       "favicon                       0\n",
       "port                          0\n",
       "https_token                   0\n",
       "request_url                   0\n",
       "url_of_anchor                 0\n",
       "links_in_tags                 0\n",
       "sfh                           0\n",
       "submitting_to_email           0\n",
       "abnormal_url                  0\n",
       "redirect                      0\n",
       "on_mouseover                  0\n",
       "rightclick                    0\n",
       "popupwindow                   0\n",
       "iframe                        0\n",
       "age_of_domain                 0\n",
       "dnsrecord                     0\n",
       "web_traffic                   0\n",
       "page_rank                     0\n",
       "google_index                  0\n",
       "links_pointing_to_page        0\n",
       "statistical_report            0\n",
       "target                        0\n",
       "dtype: int64"
      ]
     },
     "execution_count": 3,
     "metadata": {},
     "output_type": "execute_result"
    }
   ],
   "source": [
    "# Checking for missing values\n",
    "df.isnull().sum()"
   ]
  },
  {
   "cell_type": "code",
   "execution_count": 4,
   "metadata": {},
   "outputs": [
    {
     "data": {
      "text/plain": [
       "target\n",
       "1    6157\n",
       "0    4898\n",
       "Name: count, dtype: int64"
      ]
     },
     "execution_count": 4,
     "metadata": {},
     "output_type": "execute_result"
    }
   ],
   "source": [
    "# Checking for Class Imbalance\n",
    "df['target'].value_counts()"
   ]
  },
  {
   "cell_type": "code",
   "execution_count": 5,
   "metadata": {},
   "outputs": [
    {
     "data": {
      "text/plain": [
       "(11055, 31)"
      ]
     },
     "execution_count": 5,
     "metadata": {},
     "output_type": "execute_result"
    }
   ],
   "source": [
    "df.shape"
   ]
  },
  {
   "cell_type": "code",
   "execution_count": 17,
   "metadata": {},
   "outputs": [],
   "source": [
    "# Making the pipeline to scale and encode the data\n",
    "X_df = df.drop(columns=['target'])\n",
    "numeric_features = X_df.select_dtypes(include=['int64', 'float64']).columns\n",
    "categorical_features = X_df.select_dtypes(include=['object']).columns\n",
    "\n",
    "numeric_transformer = Pipeline(steps=[\n",
    "    ('imputer', SimpleImputer(strategy='median')),\n",
    "    ('scaler', StandardScaler())])\n",
    "\n",
    "categorical_transformer = Pipeline(steps=[\n",
    "    ('imputer', SimpleImputer(strategy='constant', fill_value='missing')),\n",
    "    ('onehot', OneHotEncoder(handle_unknown='ignore'))])\n",
    "\n",
    "preprocessor = ColumnTransformer(\n",
    "    transformers=[\n",
    "        ('num', numeric_transformer, numeric_features),\n",
    "        ('cat', categorical_transformer, categorical_features)])\n",
    "X = preprocessor.fit_transform(X_df)\n",
    "\n",
    "# Splitting the data into train and test sets\n",
    "\n",
    "X_train, X_test, y_train, y_test = train_test_split(X, y, stratify=y, test_size=.2, random_state=42)"
   ]
  },
  {
   "cell_type": "code",
   "execution_count": 18,
   "metadata": {},
   "outputs": [
    {
     "data": {
      "text/plain": [
       "((8844, 30), (2211, 30))"
      ]
     },
     "execution_count": 18,
     "metadata": {},
     "output_type": "execute_result"
    }
   ],
   "source": [
    "X_train.shape, X_test.shape"
   ]
  },
  {
   "cell_type": "code",
   "execution_count": 19,
   "metadata": {},
   "outputs": [
    {
     "data": {
      "text/plain": [
       "((8844,), (2211,))"
      ]
     },
     "execution_count": 19,
     "metadata": {},
     "output_type": "execute_result"
    }
   ],
   "source": [
    "y_train.shape, y_test.shape"
   ]
  },
  {
   "cell_type": "code",
   "execution_count": 20,
   "metadata": {},
   "outputs": [
    {
     "data": {
      "text/plain": [
       "6461     0\n",
       "10463    0\n",
       "3390     1\n",
       "4424     0\n",
       "6256     0\n",
       "        ..\n",
       "8048     1\n",
       "1959     0\n",
       "9450     1\n",
       "3252     1\n",
       "513      1\n",
       "Name: target, Length: 2211, dtype: int64"
      ]
     },
     "execution_count": 20,
     "metadata": {},
     "output_type": "execute_result"
    }
   ],
   "source": [
    "y_test"
   ]
  },
  {
   "cell_type": "code",
   "execution_count": 21,
   "metadata": {},
   "outputs": [],
   "source": [
    "# Converting the data into DMatrix\n",
    "dtrain = xgb.DMatrix(X_train, label=y_train)\n",
    "dtest = xgb.DMatrix(X_test, label=y_test)"
   ]
  },
  {
   "cell_type": "code",
   "execution_count": 22,
   "metadata": {},
   "outputs": [
    {
     "name": "stderr",
     "output_type": "stream",
     "text": [
      "c:\\Users\\neche\\AppData\\Local\\Programs\\Python\\Python312\\Lib\\site-packages\\xgboost\\core.py:158: UserWarning: [18:00:46] WARNING: C:\\buildkite-agent\\builds\\buildkite-windows-cpu-autoscaling-group-i-0c55ff5f71b100e98-1\\xgboost\\xgboost-ci-windows\\src\\learner.cc:740: \n",
      "Parameters: { \"n_gpus\" } are not used.\n",
      "\n",
      "  warnings.warn(smsg, UserWarning)\n"
     ]
    }
   ],
   "source": [
    "# Making the model and defining the parameters\n",
    "\n",
    "params = {\n",
    "    'max_depth': 3,\n",
    "    'objective': 'multi:softmax',\n",
    "    'num_class': 3,\n",
    "    'n_gpus': 1,\n",
    "    'device': 'cuda',\n",
    "    'tree_method': 'hist',\n",
    "    'learning_rate': 0.1,\n",
    "    'random_state': 42\n",
    "}\n",
    "\n",
    "n = 100\n",
    "\n",
    "model = xgb.train(\n",
    "   params=params,\n",
    "   dtrain=dtrain,\n",
    "   num_boost_round=n,\n",
    ")"
   ]
  },
  {
   "cell_type": "code",
   "execution_count": 23,
   "metadata": {},
   "outputs": [],
   "source": [
    "# Making Predictions with the model\n",
    "y_pred = model.predict(dtest)"
   ]
  },
  {
   "cell_type": "code",
   "execution_count": 24,
   "metadata": {},
   "outputs": [
    {
     "name": "stdout",
     "output_type": "stream",
     "text": [
      "[[ 919   61]\n",
      " [  47 1184]]\n",
      "              precision    recall  f1-score   support\n",
      "\n",
      "           0       0.95      0.94      0.94       980\n",
      "           1       0.95      0.96      0.96      1231\n",
      "\n",
      "    accuracy                           0.95      2211\n",
      "   macro avg       0.95      0.95      0.95      2211\n",
      "weighted avg       0.95      0.95      0.95      2211\n",
      "\n"
     ]
    }
   ],
   "source": [
    "# Using Classification Report to evaluate the model\n",
    "print(confusion_matrix(y_test, y_pred))\n",
    "print(classification_report(y_test, y_pred))"
   ]
  }
 ],
 "metadata": {
  "kernelspec": {
   "display_name": "Python 3",
   "language": "python",
   "name": "python3"
  },
  "language_info": {
   "codemirror_mode": {
    "name": "ipython",
    "version": 3
   },
   "file_extension": ".py",
   "mimetype": "text/x-python",
   "name": "python",
   "nbconvert_exporter": "python",
   "pygments_lexer": "ipython3",
   "version": "3.12.2"
  }
 },
 "nbformat": 4,
 "nbformat_minor": 2
}
